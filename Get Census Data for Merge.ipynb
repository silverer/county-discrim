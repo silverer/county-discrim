{
 "cells": [
  {
   "cell_type": "code",
   "execution_count": null,
   "id": "8c30a77f",
   "metadata": {},
   "outputs": [],
   "source": [
    "import requests\n",
    "import regex as re\n",
    "import numpy as np\n",
    "import pandas as pd\n",
    "import tokens\n",
    "import openpyxl\n",
    "box_path = \"../../Library/CloudStorage/Box-Box/EEOC data/\""
   ]
  },
  {
   "cell_type": "code",
   "execution_count": null,
   "id": "afdacab3",
   "metadata": {
    "scrolled": true
   },
   "outputs": [],
   "source": [
    "#read in guide for variable names\n",
    "census_vars = pd.read_excel(\"data/census_variable_guide.xlsx\")\n",
    "census_vars"
   ]
  },
  {
   "cell_type": "markdown",
   "id": "16aa292a",
   "metadata": {},
   "source": [
    "## Get 2005-2009 ACS data"
   ]
  },
  {
   "cell_type": "markdown",
   "id": "f35e3a31",
   "metadata": {},
   "source": [
    "Note: We use separate queries for population demographics and race-specific unemployment rates because population demographics are from Data Profiles and White unemployment is from Subject Tables\n",
    "\n",
    "You'll also need a Census API key to access these data, which you can save in a `tokens.py` file."
   ]
  },
  {
   "cell_type": "code",
   "execution_count": null,
   "id": "99d43f0c",
   "metadata": {
    "scrolled": true
   },
   "outputs": [],
   "source": [
    "vars_09 = census_vars[census_vars['acs_round']==2009]\n",
    "get_vars = vars_09[vars_09['source']==\"variables\"]\n",
    "\n",
    "#get White unemployment and population demographics\n",
    "new_emp_vars = \",\".join(get_vars['original_name'].to_list())\n",
    "q = f\"https://api.census.gov/data/2009/acs/acs5?get=GEO_ID,NAME,{new_emp_vars}&for=county:*&in=state:*&key={tokens.CENSUS_KEY}\"\n",
    "r = requests.get(q)\n",
    "resp = r.json()\n",
    "headers = resp.pop(0)\n",
    "emp_1 = pd.DataFrame(resp, columns=headers)\n",
    "\n",
    "tmp_rename = dict(zip(get_vars['original_name'].to_list(),\n",
    "                     get_vars['new_name'].to_list()))\n",
    "emp_1 = emp_1.rename(columns = tmp_rename)\n",
    "\n",
    "#get overall unemployment--this is accessed via a separate API call\n",
    "get_vars = vars_09[vars_09['source']!=\"variables\"]\n",
    "\n",
    "new_emp_vars = \",\".join(get_vars['original_name'].to_list())\n",
    "q = f\"https://api.census.gov/data/2009/acs/acs5/profile?get=GEO_ID,NAME,{new_emp_vars}&for=county:*&in=state:*&key={tokens.CENSUS_KEY}\"\n",
    "r = requests.get(q)\n",
    "resp = r.json()\n",
    "headers = resp.pop(0)\n",
    "tmp_09 = pd.DataFrame(resp, columns=headers)\n",
    "\n",
    "tmp_rename = dict(zip(get_vars['original_name'].to_list(),\n",
    "                     get_vars['new_name'].to_list()))\n",
    "tmp_09 = tmp_09.rename(columns = tmp_rename)\n",
    "tmp_09 = tmp_09.drop(columns = ['state', 'county',\n",
    "                               'NAME'])\n",
    "emp_1 = pd.merge(emp_1, tmp_09, how='outer',on=\"GEO_ID\")\n",
    "emp_1"
   ]
  },
  {
   "cell_type": "markdown",
   "id": "260da6d3",
   "metadata": {},
   "source": [
    "## Get 2010 - 2014 ACS data"
   ]
  },
  {
   "cell_type": "code",
   "execution_count": null,
   "id": "5ef9b8a7",
   "metadata": {},
   "outputs": [],
   "source": [
    "vars_14 = census_vars[census_vars['acs_round']==2014]\n",
    "get_vars = vars_14[vars_14['source']==\"variables\"]\n",
    "\n",
    "#get White unemployment and population demographics\n",
    "new_emp_vars = \",\".join(get_vars['original_name'].to_list())\n",
    "q = f\"https://api.census.gov/data/2014/acs/acs5?get=GEO_ID,NAME,{new_emp_vars}&for=county:*&in=state:*&key={tokens.CENSUS_KEY}\"\n",
    "r = requests.get(q)\n",
    "resp = r.json()\n",
    "headers = resp.pop(0)\n",
    "emp_2 = pd.DataFrame(resp, columns=headers)\n",
    "\n",
    "tmp_rename = dict(zip(get_vars['original_name'].to_list(),\n",
    "                     get_vars['new_name'].to_list()))\n",
    "emp_2 = emp_2.rename(columns = tmp_rename)\n",
    "emp_2 = emp_2.drop(columns=['NAME','state','county'])\n",
    "\n",
    "\n",
    "#get overall unemployment--this is accessed via a separate API call \n",
    "get_vars = vars_14[vars_14['source']!=\"variables\"]\n",
    "\n",
    "new_emp_vars = \",\".join(get_vars['original_name'].to_list())\n",
    "q = f\"https://api.census.gov/data/2014/acs/acs5/profile?get=GEO_ID,NAME,{new_emp_vars}&for=county:*&in=state:*&key={tokens.CENSUS_KEY}\"\n",
    "r = requests.get(q)\n",
    "resp = r.json()\n",
    "headers = resp.pop(0)\n",
    "tmp_14 = pd.DataFrame(resp, columns=headers)\n",
    "\n",
    "tmp_rename = dict(zip(get_vars['original_name'].to_list(),\n",
    "                     get_vars['new_name'].to_list()))\n",
    "tmp_14 = tmp_14.rename(columns = tmp_rename)\n",
    "tmp_14 = tmp_14.drop(columns = ['state', 'county',\n",
    "                               'NAME'])\n",
    "emp_2 = pd.merge(emp_2, tmp_14, how='outer',on=\"GEO_ID\")\n",
    "emp_2"
   ]
  },
  {
   "cell_type": "code",
   "execution_count": null,
   "id": "a5f7baf0",
   "metadata": {
    "scrolled": true
   },
   "outputs": [],
   "source": [
    "merged = pd.merge(emp_1,emp_2,on=\"GEO_ID\", how = 'outer', suffixes=(\"_0509\", \"_1014\"),\n",
    "                 indicator=True)"
   ]
  },
  {
   "cell_type": "code",
   "execution_count": null,
   "id": "1fb9617c",
   "metadata": {},
   "outputs": [],
   "source": [
    "merged['_merge'].value_counts()"
   ]
  },
  {
   "cell_type": "markdown",
   "id": "428056b5",
   "metadata": {},
   "source": [
    "This link: https://www.census.gov/programs-surveys/acs/technical-documentation/table-and-geography-changes/2009/geography-changes.html describes some of the changes to geography that occurred between the 2000 Census and 2009. Looking at one example, it seems like any issues have been resolved since one of the changed counties has the most up-to-date name in the earlier dataset."
   ]
  },
  {
   "cell_type": "code",
   "execution_count": null,
   "id": "9a1de20a",
   "metadata": {},
   "outputs": [],
   "source": [
    "merged[merged['NAME'].str.contains(\"Angoon\")]"
   ]
  },
  {
   "cell_type": "markdown",
   "id": "4a188ef5",
   "metadata": {},
   "source": [
    "Bedford city failed to merge. See here for an explanation: https://www.census.gov/programs-surveys/acs/technical-documentation/table-and-geography-changes.2014.html#list-tab-71983198\n",
    "\n",
    "It had been absorbed by Bedford County in a subsequent year."
   ]
  },
  {
   "cell_type": "code",
   "execution_count": null,
   "id": "e781fec7",
   "metadata": {
    "scrolled": true
   },
   "outputs": [],
   "source": [
    "merged[merged['_merge']!=\"both\"]"
   ]
  },
  {
   "cell_type": "markdown",
   "id": "417037ea",
   "metadata": {},
   "source": [
    "Calculate non-Hispanic White labor force participation rate"
   ]
  },
  {
   "cell_type": "code",
   "execution_count": null,
   "id": "bc435843",
   "metadata": {},
   "outputs": [],
   "source": [
    "in_lf_cols = [c for c in merged.columns.to_list() if (c.startswith(\"white_femal\") or c.startswith(\"white_male\"))]\n",
    "in_lf_cols = [c.replace(\"0509\",\"\") for c in in_lf_cols if (c.endswith(\"0509\")and \"unem\" not in c)]\n",
    "\n",
    "suffixes = [\"0509\", \"1014\"]\n",
    "for s in suffixes:\n",
    "    tmp_cols = [c+s for c in in_lf_cols]\n",
    "    print(tmp_cols)\n",
    "    new_col = \"white_lf_\"+s\n",
    "    print(new_col)\n",
    "    #sum the number of White people in civilian labor force across numeric columns\n",
    "    for t in tmp_cols:\n",
    "        merged[t] = merged[t].astype(float)\n",
    "    merged[new_col] = merged[tmp_cols].sum(axis=1)\n",
    "    \n",
    "\n"
   ]
  },
  {
   "cell_type": "markdown",
   "id": "70f9dc50",
   "metadata": {},
   "source": [
    "Calculate number of unemployed non-Hispanic White people and non-Hispanic White unemployment rate"
   ]
  },
  {
   "cell_type": "code",
   "execution_count": null,
   "id": "58d2029e",
   "metadata": {},
   "outputs": [],
   "source": [
    "in_lf_cols = [c for c in merged.columns.to_list() if (c.startswith(\"white_femal\") or c.startswith(\"white_male\"))]\n",
    "in_lf_cols = [c.replace(\"0509\",\"\") for c in in_lf_cols if (c.endswith(\"0509\")and \"unem\" in c)]\n",
    "\n",
    "suffixes = [\"0509\", \"1014\"]\n",
    "for s in suffixes:\n",
    "    tmp_cols = [c+s for c in in_lf_cols]\n",
    "    new_col = \"white_unemp_n_\"+s\n",
    "    print(new_col)\n",
    "    #sum the number of unemployed White people across numeric columns\n",
    "    for t in tmp_cols:\n",
    "        merged[t] = merged[t].astype(float)\n",
    "    merged[new_col] = merged[tmp_cols].sum(axis=1)\n",
    "    #convert to unemployment rate\n",
    "    new_col_2 = \"white_unemp_rate_\"+s\n",
    "    lf_col = 'white_lf_'+s\n",
    "    merged[new_col_2] = (merged[new_col]/merged[lf_col])*100\n",
    "    \n",
    "    "
   ]
  },
  {
   "cell_type": "code",
   "execution_count": null,
   "id": "9032b775",
   "metadata": {
    "scrolled": true
   },
   "outputs": [],
   "source": [
    "merged[tmp_cols].astype(float)"
   ]
  },
  {
   "cell_type": "markdown",
   "id": "b6563a76",
   "metadata": {},
   "source": [
    "Check that the above calculations worked as expected"
   ]
  },
  {
   "cell_type": "code",
   "execution_count": null,
   "id": "78d7c12a",
   "metadata": {
    "scrolled": true
   },
   "outputs": [],
   "source": [
    "230+0+262+3"
   ]
  },
  {
   "cell_type": "code",
   "execution_count": null,
   "id": "52bcb9fe",
   "metadata": {
    "scrolled": true
   },
   "outputs": [],
   "source": [
    "merged.loc[0,'white_unemp_n_1014'] #yup!"
   ]
  },
  {
   "cell_type": "code",
   "execution_count": null,
   "id": "efdd1093",
   "metadata": {},
   "outputs": [],
   "source": [
    "merged[['white_lf_0509','white_unemp_n_0509','white_unemp_rate_0509']]"
   ]
  },
  {
   "cell_type": "code",
   "execution_count": null,
   "id": "a972c522",
   "metadata": {},
   "outputs": [],
   "source": [
    "merged[['white_lf_1014','white_unemp_n_1014','total_pop_1014','total_white_1014','white_unemp_rate_1014']]\n"
   ]
  },
  {
   "cell_type": "code",
   "execution_count": null,
   "id": "13cdbf4c",
   "metadata": {},
   "outputs": [],
   "source": [
    "merged['percent_white_0509'] = 100*(merged['total_white_0509'].astype(float)/merged['total_pop_0509'].astype(float))\n",
    "merged['percent_white_1014'] = 100*(merged['total_white_1014'].astype(float)/merged['total_pop_1014'].astype(float))\n",
    "merged['percent_poc_0509'] = 100 - merged['percent_white_0509']\n",
    "merged['percent_poc_1014'] = 100 - merged['percent_white_1014']\n",
    "\n"
   ]
  },
  {
   "cell_type": "code",
   "execution_count": null,
   "id": "965ea38c",
   "metadata": {},
   "outputs": [],
   "source": [
    "merged.to_csv(box_path+\"emp_pop_data_05_14.csv\", index=False, encoding=\"utf-8-sig\")"
   ]
  }
 ],
 "metadata": {
  "kernelspec": {
   "display_name": "Python 3 (ipykernel)",
   "language": "python",
   "name": "python3"
  },
  "language_info": {
   "codemirror_mode": {
    "name": "ipython",
    "version": 3
   },
   "file_extension": ".py",
   "mimetype": "text/x-python",
   "name": "python",
   "nbconvert_exporter": "python",
   "pygments_lexer": "ipython3",
   "version": "3.10.9"
  }
 },
 "nbformat": 4,
 "nbformat_minor": 5
}
